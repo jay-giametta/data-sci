{
  "nbformat": 4,
  "nbformat_minor": 0,
  "metadata": {
    "colab": {
      "name": "5-featureSelection.ipynb",
      "provenance": [],
      "collapsed_sections": [],
      "include_colab_link": true
    },
    "kernelspec": {
      "name": "python3",
      "display_name": "Python 3"
    }
  },
  "cells": [
    {
      "cell_type": "markdown",
      "metadata": {
        "id": "view-in-github",
        "colab_type": "text"
      },
      "source": [
        "<a href=\"https://colab.research.google.com/github/jay-giametta/data-sci/blob/main/5_featureSelection.ipynb\" target=\"_parent\"><img src=\"https://colab.research.google.com/assets/colab-badge.svg\" alt=\"Open In Colab\"/></a>"
      ]
    },
    {
      "cell_type": "markdown",
      "metadata": {
        "id": "DI_gAlTpqCEz"
      },
      "source": [
        "# Feature Selection"
      ]
    },
    {
      "cell_type": "markdown",
      "metadata": {
        "id": "Tpl7-DjnnjX_"
      },
      "source": [
        "Import necessary libraries"
      ]
    },
    {
      "cell_type": "code",
      "metadata": {
        "id": "yLF7xgD2ngFA"
      },
      "source": [
        "from sklearn.cluster import KMeans\r\n",
        "from sklearn.feature_selection import SelectKBest\r\n",
        "from sklearn.feature_selection import chi2\r\n",
        "import pandas as pd\r\n",
        "import matplotlib.pyplot as plt"
      ],
      "execution_count": 1,
      "outputs": []
    },
    {
      "cell_type": "markdown",
      "metadata": {
        "id": "ojsxiAzrn5T3"
      },
      "source": [
        "Read the Iris dataset into a dataframe"
      ]
    },
    {
      "cell_type": "code",
      "metadata": {
        "id": "T9r-oV6IoBa6"
      },
      "source": [
        "iris = pd.read_csv(\"https://datahub.io/machine-learning/iris/r/iris.csv\")"
      ],
      "execution_count": 2,
      "outputs": []
    },
    {
      "cell_type": "markdown",
      "metadata": {
        "id": "dvAp8nmsoCIn"
      },
      "source": [
        "Choose feature values"
      ]
    },
    {
      "cell_type": "code",
      "metadata": {
        "id": "9gjxBmmJoEmq"
      },
      "source": [
        "features = iris[['sepallength', 'sepalwidth', 'petallength', 'petalwidth']]"
      ],
      "execution_count": 3,
      "outputs": []
    },
    {
      "cell_type": "markdown",
      "metadata": {
        "id": "my1awajNoGUs"
      },
      "source": [
        "Choose target values"
      ]
    },
    {
      "cell_type": "code",
      "metadata": {
        "id": "58bdXUY3oIrh"
      },
      "source": [
        "target = iris['class']"
      ],
      "execution_count": 4,
      "outputs": []
    },
    {
      "cell_type": "markdown",
      "metadata": {
        "id": "9noDq22Iv-53"
      },
      "source": [
        "Choose the top two out of the four available features so we can create a 2d plot\r\n",
        "\r\n"
      ]
    },
    {
      "cell_type": "code",
      "metadata": {
        "colab": {
          "base_uri": "https://localhost:8080/"
        },
        "id": "OlGkPD9LwIHG",
        "outputId": "e4a933b1-7585-478a-960f-4a7cb7bad544"
      },
      "source": [
        "selector = SelectKBest(chi2, k=2)\r\n",
        "selector.fit(features, target)\r\n",
        "cols = selector.get_support(indices=True)\r\n",
        "\r\n",
        "bestFeatures = features.iloc[:,cols]\r\n",
        "\r\n",
        "dic = {'feature': features.columns, 'score': selector.scores_}\r\n",
        "scores = pd.DataFrame(data=dic)\r\n",
        "print(scores)"
      ],
      "execution_count": 5,
      "outputs": [
        {
          "output_type": "stream",
          "text": [
            "       feature       score\n",
            "0  sepallength   10.817821\n",
            "1   sepalwidth    3.594499\n",
            "2  petallength  116.169847\n",
            "3   petalwidth   67.244828\n"
          ],
          "name": "stdout"
        }
      ]
    },
    {
      "cell_type": "markdown",
      "metadata": {
        "id": "-ntDciWYoL9K"
      },
      "source": [
        "Instantiate a kmeans model"
      ]
    },
    {
      "cell_type": "code",
      "metadata": {
        "id": "uk6bZqg5oMi4"
      },
      "source": [
        "clusters = 3\r\n",
        "model = KMeans(n_clusters=clusters)"
      ],
      "execution_count": 6,
      "outputs": []
    },
    {
      "cell_type": "markdown",
      "metadata": {
        "id": "UQjSx0k9ojcy"
      },
      "source": [
        "Fit the model using the best features.\r\n",
        "Note: This is unsupervised learning (no labels were given during fitting)"
      ]
    },
    {
      "cell_type": "code",
      "metadata": {
        "colab": {
          "base_uri": "https://localhost:8080/"
        },
        "id": "vt4k32EPoqge",
        "outputId": "e43bff43-4c9f-43d2-d4f9-fe2ed0562d60"
      },
      "source": [
        "model.fit(bestFeatures)"
      ],
      "execution_count": 7,
      "outputs": [
        {
          "output_type": "execute_result",
          "data": {
            "text/plain": [
              "KMeans(algorithm='auto', copy_x=True, init='k-means++', max_iter=300,\n",
              "       n_clusters=3, n_init=10, n_jobs=None, precompute_distances='auto',\n",
              "       random_state=None, tol=0.0001, verbose=0)"
            ]
          },
          "metadata": {
            "tags": []
          },
          "execution_count": 7
        }
      ]
    },
    {
      "cell_type": "markdown",
      "metadata": {
        "id": "UbAL_1w5pnJs"
      },
      "source": [
        "Create a new dataframe with truth/label data\r\n",
        "\r\n"
      ]
    },
    {
      "cell_type": "code",
      "metadata": {
        "id": "6-mCgXTZppGr"
      },
      "source": [
        "dic = {'truth': target, 'label': model.labels_}\r\n",
        "classes = pd.DataFrame(data=dic)"
      ],
      "execution_count": 8,
      "outputs": []
    },
    {
      "cell_type": "markdown",
      "metadata": {
        "id": "o31iy5eOpsaB"
      },
      "source": [
        "Print labels calculated accuracy against true classes\r\n",
        "Note: Other binary classification performance measures beyond accuracy will be covered later"
      ]
    },
    {
      "cell_type": "code",
      "metadata": {
        "colab": {
          "base_uri": "https://localhost:8080/"
        },
        "id": "98GH4IwIpvaI",
        "outputId": "63115ab9-5017-4c8d-e3de-7877c9541cba"
      },
      "source": [
        "correctGrandTotal = 0\r\n",
        "for cluster in range(clusters):\r\n",
        "  prediction = str(classes.loc[classes.label == cluster].truth.mode()[0])\r\n",
        "  trueTotal = classes.truth.loc[classes.truth == prediction].count()\r\n",
        "  correctTotal = classes.loc[classes.label == cluster].truth.value_counts()[0]\r\n",
        "  correctGrandTotal += correctTotal\r\n",
        "\r\n",
        "  print('cluster: ' + str(cluster) + '\\nprediction: ' + prediction)\r\n",
        "  print('accuracy: ' + str(100 * correctTotal / trueTotal) + \"%\\n\")\r\n",
        "\r\n",
        "print('Overall accuracy: ' + str(round(100 * correctGrandTotal / classes.shape[0], 2)) + '%')"
      ],
      "execution_count": 9,
      "outputs": [
        {
          "output_type": "stream",
          "text": [
            "cluster: 0\n",
            "prediction: Iris-setosa\n",
            "accuracy: 100.0%\n",
            "\n",
            "cluster: 1\n",
            "prediction: Iris-virginica\n",
            "accuracy: 92.0%\n",
            "\n",
            "cluster: 2\n",
            "prediction: Iris-versicolor\n",
            "accuracy: 96.0%\n",
            "\n",
            "Overall accuracy: 96.0%\n"
          ],
          "name": "stdout"
        }
      ]
    },
    {
      "cell_type": "markdown",
      "metadata": {
        "id": "04H_3bQ24bWJ"
      },
      "source": [
        "Create a scatter plot with the top two features"
      ]
    },
    {
      "cell_type": "code",
      "metadata": {
        "colab": {
          "base_uri": "https://localhost:8080/",
          "height": 530
        },
        "id": "wy74ej4a4hoo",
        "outputId": "ad4d6dc8-4536-414d-9f15-3b44753394cc"
      },
      "source": [
        "plt.rcParams['figure.figsize'] = [12, 8]\r\n",
        "\r\n",
        "xlab=features.columns[cols][0]\r\n",
        "ylab=features.columns[cols][1]\r\n",
        "\r\n",
        "for cls in target.unique():\r\n",
        "    plt.scatter(x=bestFeatures.loc[target == cls][xlab],\r\n",
        "                y=bestFeatures.loc[target == cls][ylab],\r\n",
        "                label=cls)\r\n",
        "\r\n",
        "for cluster in range(0,3):\r\n",
        "  plt.annotate('Cluster ' + str(cluster), model.cluster_centers_[cluster])\r\n",
        "\r\n",
        "  plt.plot(model.cluster_centers_[cluster][0], \r\n",
        "           model.cluster_centers_[cluster][1], \r\n",
        "           color ='black', \r\n",
        "           marker = 'x',\r\n",
        "           markersize = '12')\r\n",
        "\r\n",
        "plt.legend()\r\n",
        "plt.grid()\r\n",
        "plt.title('K-Means Clusters, K=3')\r\n",
        "plt.xlabel(xlab)\r\n",
        "plt.ylabel(ylab)"
      ],
      "execution_count": 10,
      "outputs": [
        {
          "output_type": "execute_result",
          "data": {
            "text/plain": [
              "Text(0, 0.5, 'petalwidth')"
            ]
          },
          "metadata": {
            "tags": []
          },
          "execution_count": 10
        },
        {
          "output_type": "display_data",
          "data": {
            "image/png": "[encoded data removed]",
            "text/plain": [
              "<Figure size 864x576 with 1 Axes>"
            ]
          },
          "metadata": {
            "tags": [],
            "needs_background": "light"
          }
        }
      ]
    }
  ]
}