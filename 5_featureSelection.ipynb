{
  "nbformat": 4,
  "nbformat_minor": 0,
  "metadata": {
    "colab": {
      "name": "5-featureSelection.ipynb",
      "provenance": [],
      "collapsed_sections": [],
      "authorship_tag": "ABX9TyMO8T9oV8bFIwFeTk9LPsFY",
      "include_colab_link": true
    },
    "kernelspec": {
      "name": "python3",
      "display_name": "Python 3"
    }
  },
  "cells": [
    {
      "cell_type": "markdown",
      "metadata": {
        "id": "view-in-github",
        "colab_type": "text"
      },
      "source": [
        "<a href=\"https://colab.research.google.com/github/jay-giametta/data-sci/blob/main/5_featureSelection.ipynb\" target=\"_parent\"><img src=\"https://colab.research.google.com/assets/colab-badge.svg\" alt=\"Open In Colab\"/></a>"
      ]
    },
    {
      "cell_type": "markdown",
      "metadata": {
        "id": "DI_gAlTpqCEz"
      },
      "source": [
        "# Feature Selection"
      ]
    },
    {
      "cell_type": "markdown",
      "metadata": {
        "id": "Tpl7-DjnnjX_"
      },
      "source": [
        "Import necessary libraries"
      ]
    },
    {
      "cell_type": "code",
      "metadata": {
        "id": "yLF7xgD2ngFA"
      },
      "source": [
        "from sklearn.linear_model import LogisticRegression\r\n",
        "from sklearn.feature_selection import SelectKBest\r\n",
        "from sklearn.feature_selection import chi2\r\n",
        "import pandas as pd"
      ],
      "execution_count": 1,
      "outputs": []
    },
    {
      "cell_type": "markdown",
      "metadata": {
        "id": "ojsxiAzrn5T3"
      },
      "source": [
        "Read the Iris dataset into a dataframe"
      ]
    },
    {
      "cell_type": "code",
      "metadata": {
        "id": "T9r-oV6IoBa6"
      },
      "source": [
        "iris = pd.read_csv(\"https://datahub.io/machine-learning/iris/r/iris.csv\")"
      ],
      "execution_count": 2,
      "outputs": []
    },
    {
      "cell_type": "markdown",
      "metadata": {
        "id": "dvAp8nmsoCIn"
      },
      "source": [
        "Choose feature values"
      ]
    },
    {
      "cell_type": "code",
      "metadata": {
        "id": "9gjxBmmJoEmq"
      },
      "source": [
        "features = iris[['sepallength', 'sepalwidth', 'petallength', 'petalwidth']]"
      ],
      "execution_count": 3,
      "outputs": []
    },
    {
      "cell_type": "markdown",
      "metadata": {
        "id": "my1awajNoGUs"
      },
      "source": [
        "Choose target values"
      ]
    },
    {
      "cell_type": "code",
      "metadata": {
        "id": "58bdXUY3oIrh"
      },
      "source": [
        "target = iris['class']"
      ],
      "execution_count": 4,
      "outputs": []
    },
    {
      "cell_type": "markdown",
      "metadata": {
        "id": "9noDq22Iv-53"
      },
      "source": [
        "Choose the top two out of the four available features"
      ]
    },
    {
      "cell_type": "code",
      "metadata": {
        "colab": {
          "base_uri": "https://localhost:8080/"
        },
        "id": "OlGkPD9LwIHG",
        "outputId": "18b0d359-ca4f-4117-e0f1-268c4281524b"
      },
      "source": [
        "selector = SelectKBest(chi2, k=2)\r\n",
        "selector.fit(features, target)\r\n",
        "cols = selector.get_support(indices=True)\r\n",
        "\r\n",
        "bestFeatures = features.iloc[:,cols]\r\n",
        "\r\n",
        "dic = {'feature': features.columns, 'score': selector.scores_}\r\n",
        "scores = pd.DataFrame(data=dic)\r\n",
        "print(scores)"
      ],
      "execution_count": 5,
      "outputs": [
        {
          "output_type": "stream",
          "text": [
            "       feature       score\n",
            "0  sepallength   10.817821\n",
            "1   sepalwidth    3.594499\n",
            "2  petallength  116.169847\n",
            "3   petalwidth   67.244828\n"
          ],
          "name": "stdout"
        }
      ]
    },
    {
      "cell_type": "markdown",
      "metadata": {
        "id": "-ntDciWYoL9K"
      },
      "source": [
        "Instantiate a regression model"
      ]
    },
    {
      "cell_type": "code",
      "metadata": {
        "id": "uk6bZqg5oMi4"
      },
      "source": [
        "model = LogisticRegression()"
      ],
      "execution_count": 6,
      "outputs": []
    },
    {
      "cell_type": "markdown",
      "metadata": {
        "id": "UQjSx0k9ojcy"
      },
      "source": [
        "Fit the model using the entire dataset.\r\n",
        "\r\n",
        "Note: Will cover using separate training/test sets and validation in a later notebook"
      ]
    },
    {
      "cell_type": "code",
      "metadata": {
        "colab": {
          "base_uri": "https://localhost:8080/"
        },
        "id": "vt4k32EPoqge",
        "outputId": "5ec89469-a992-4842-f3a4-5c113d85c8ba"
      },
      "source": [
        "model.fit(bestFeatures, target)"
      ],
      "execution_count": 7,
      "outputs": [
        {
          "output_type": "execute_result",
          "data": {
            "text/plain": [
              "LogisticRegression(C=1.0, class_weight=None, dual=False, fit_intercept=True,\n",
              "                   intercept_scaling=1, l1_ratio=None, max_iter=100,\n",
              "                   multi_class='auto', n_jobs=None, penalty='l2',\n",
              "                   random_state=None, solver='lbfgs', tol=0.0001, verbose=0,\n",
              "                   warm_start=False)"
            ]
          },
          "metadata": {
            "tags": []
          },
          "execution_count": 7
        }
      ]
    },
    {
      "cell_type": "markdown",
      "metadata": {
        "id": "VIDNZlK1pZiJ"
      },
      "source": [
        "Make predictions with the fitted model"
      ]
    },
    {
      "cell_type": "code",
      "metadata": {
        "id": "ZroVuvyUpe21"
      },
      "source": [
        "predict = model.predict(bestFeatures)"
      ],
      "execution_count": 8,
      "outputs": []
    },
    {
      "cell_type": "markdown",
      "metadata": {
        "id": "UbAL_1w5pnJs"
      },
      "source": [
        "Create a new dataframe with truth/prediction data"
      ]
    },
    {
      "cell_type": "code",
      "metadata": {
        "id": "6-mCgXTZppGr"
      },
      "source": [
        "dic = {'truth': target, 'predict': predict}\r\n",
        "classes = pd.DataFrame(data=dic)\r\n",
        "classes['correct'] = classes.predict == classes.truth"
      ],
      "execution_count": 9,
      "outputs": []
    },
    {
      "cell_type": "markdown",
      "metadata": {
        "id": "o31iy5eOpsaB"
      },
      "source": [
        "Print the first few obsevations in the new dataframe"
      ]
    },
    {
      "cell_type": "code",
      "metadata": {
        "colab": {
          "base_uri": "https://localhost:8080/",
          "height": 204
        },
        "id": "98GH4IwIpvaI",
        "outputId": "b3769ace-386a-4b9f-fc3e-9b430beba7a1"
      },
      "source": [
        "classes.head()"
      ],
      "execution_count": 10,
      "outputs": [
        {
          "output_type": "execute_result",
          "data": {
            "text/html": [
              "<div>\n",
              "<style scoped>\n",
              "    .dataframe tbody tr th:only-of-type {\n",
              "        vertical-align: middle;\n",
              "    }\n",
              "\n",
              "    .dataframe tbody tr th {\n",
              "        vertical-align: top;\n",
              "    }\n",
              "\n",
              "    .dataframe thead th {\n",
              "        text-align: right;\n",
              "    }\n",
              "</style>\n",
              "<table border=\"1\" class=\"dataframe\">\n",
              "  <thead>\n",
              "    <tr style=\"text-align: right;\">\n",
              "      <th></th>\n",
              "      <th>truth</th>\n",
              "      <th>predict</th>\n",
              "      <th>correct</th>\n",
              "    </tr>\n",
              "  </thead>\n",
              "  <tbody>\n",
              "    <tr>\n",
              "      <th>0</th>\n",
              "      <td>Iris-setosa</td>\n",
              "      <td>Iris-setosa</td>\n",
              "      <td>True</td>\n",
              "    </tr>\n",
              "    <tr>\n",
              "      <th>1</th>\n",
              "      <td>Iris-setosa</td>\n",
              "      <td>Iris-setosa</td>\n",
              "      <td>True</td>\n",
              "    </tr>\n",
              "    <tr>\n",
              "      <th>2</th>\n",
              "      <td>Iris-setosa</td>\n",
              "      <td>Iris-setosa</td>\n",
              "      <td>True</td>\n",
              "    </tr>\n",
              "    <tr>\n",
              "      <th>3</th>\n",
              "      <td>Iris-setosa</td>\n",
              "      <td>Iris-setosa</td>\n",
              "      <td>True</td>\n",
              "    </tr>\n",
              "    <tr>\n",
              "      <th>4</th>\n",
              "      <td>Iris-setosa</td>\n",
              "      <td>Iris-setosa</td>\n",
              "      <td>True</td>\n",
              "    </tr>\n",
              "  </tbody>\n",
              "</table>\n",
              "</div>"
            ],
            "text/plain": [
              "         truth      predict  correct\n",
              "0  Iris-setosa  Iris-setosa     True\n",
              "1  Iris-setosa  Iris-setosa     True\n",
              "2  Iris-setosa  Iris-setosa     True\n",
              "3  Iris-setosa  Iris-setosa     True\n",
              "4  Iris-setosa  Iris-setosa     True"
            ]
          },
          "metadata": {
            "tags": []
          },
          "execution_count": 10
        }
      ]
    },
    {
      "cell_type": "markdown",
      "metadata": {
        "id": "fOcsVna3p3NV"
      },
      "source": [
        "Calculate and print the model accuracy"
      ]
    },
    {
      "cell_type": "code",
      "metadata": {
        "colab": {
          "base_uri": "https://localhost:8080/"
        },
        "id": "E7-cTfYsp6Vx",
        "outputId": "10b3ef76-88a6-4579-c434-e31deb1ba7c5"
      },
      "source": [
        "print('Model accuracy: ' + str(round(classes.correct.sum()/classes.correct.count()*100, 2)) + '%')"
      ],
      "execution_count": 11,
      "outputs": [
        {
          "output_type": "stream",
          "text": [
            "Model accuracy: 96.67%\n"
          ],
          "name": "stdout"
        }
      ]
    },
    {
      "cell_type": "markdown",
      "metadata": {
        "id": "2NKvOZGRp7ls"
      },
      "source": [
        "Print the incorrect predictions"
      ]
    },
    {
      "cell_type": "code",
      "metadata": {
        "colab": {
          "base_uri": "https://localhost:8080/",
          "height": 204
        },
        "id": "DZXicUcap-GC",
        "outputId": "db541921-6bec-4b99-cfe7-babade522cd9"
      },
      "source": [
        "classes.loc[classes.correct == False]"
      ],
      "execution_count": 12,
      "outputs": [
        {
          "output_type": "execute_result",
          "data": {
            "text/html": [
              "<div>\n",
              "<style scoped>\n",
              "    .dataframe tbody tr th:only-of-type {\n",
              "        vertical-align: middle;\n",
              "    }\n",
              "\n",
              "    .dataframe tbody tr th {\n",
              "        vertical-align: top;\n",
              "    }\n",
              "\n",
              "    .dataframe thead th {\n",
              "        text-align: right;\n",
              "    }\n",
              "</style>\n",
              "<table border=\"1\" class=\"dataframe\">\n",
              "  <thead>\n",
              "    <tr style=\"text-align: right;\">\n",
              "      <th></th>\n",
              "      <th>truth</th>\n",
              "      <th>predict</th>\n",
              "      <th>correct</th>\n",
              "    </tr>\n",
              "  </thead>\n",
              "  <tbody>\n",
              "    <tr>\n",
              "      <th>70</th>\n",
              "      <td>Iris-versicolor</td>\n",
              "      <td>Iris-virginica</td>\n",
              "      <td>False</td>\n",
              "    </tr>\n",
              "    <tr>\n",
              "      <th>77</th>\n",
              "      <td>Iris-versicolor</td>\n",
              "      <td>Iris-virginica</td>\n",
              "      <td>False</td>\n",
              "    </tr>\n",
              "    <tr>\n",
              "      <th>83</th>\n",
              "      <td>Iris-versicolor</td>\n",
              "      <td>Iris-virginica</td>\n",
              "      <td>False</td>\n",
              "    </tr>\n",
              "    <tr>\n",
              "      <th>106</th>\n",
              "      <td>Iris-virginica</td>\n",
              "      <td>Iris-versicolor</td>\n",
              "      <td>False</td>\n",
              "    </tr>\n",
              "    <tr>\n",
              "      <th>119</th>\n",
              "      <td>Iris-virginica</td>\n",
              "      <td>Iris-versicolor</td>\n",
              "      <td>False</td>\n",
              "    </tr>\n",
              "  </tbody>\n",
              "</table>\n",
              "</div>"
            ],
            "text/plain": [
              "               truth          predict  correct\n",
              "70   Iris-versicolor   Iris-virginica    False\n",
              "77   Iris-versicolor   Iris-virginica    False\n",
              "83   Iris-versicolor   Iris-virginica    False\n",
              "106   Iris-virginica  Iris-versicolor    False\n",
              "119   Iris-virginica  Iris-versicolor    False"
            ]
          },
          "metadata": {
            "tags": []
          },
          "execution_count": 12
        }
      ]
    }
  ]
}