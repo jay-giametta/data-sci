{
  "nbformat": 4,
  "nbformat_minor": 0,
  "metadata": {
    "colab": {
      "name": "4-kmeansCluster.ipynb",
      "provenance": [],
      "collapsed_sections": [],
      "authorship_tag": "ABX9TyNt88b8KwxvnNtsFwwSjNgs",
      "include_colab_link": true
    },
    "kernelspec": {
      "name": "python3",
      "display_name": "Python 3"
    }
  },
  "cells": [
    {
      "cell_type": "markdown",
      "metadata": {
        "id": "view-in-github",
        "colab_type": "text"
      },
      "source": [
        "<a href=\"https://colab.research.google.com/github/jay-giametta/data-sci/blob/main/4_kmeansCluster.ipynb\" target=\"_parent\"><img src=\"https://colab.research.google.com/assets/colab-badge.svg\" alt=\"Open In Colab\"/></a>"
      ]
    },
    {
      "cell_type": "markdown",
      "metadata": {
        "id": "A2wREm18kft0"
      },
      "source": [
        "# K-means Clustering"
      ]
    },
    {
      "cell_type": "markdown",
      "metadata": {
        "id": "Dyh3f-C8klaO"
      },
      "source": [
        "Import necessary libraries"
      ]
    },
    {
      "cell_type": "code",
      "metadata": {
        "id": "9II7DGxokbw6"
      },
      "source": [
        "from sklearn.cluster import KMeans\r\n",
        "import pandas as pd\r\n",
        "import numpy as np\r\n",
        "import matplotlib.pyplot as plt"
      ],
      "execution_count": 1,
      "outputs": []
    },
    {
      "cell_type": "markdown",
      "metadata": {
        "id": "WYrm6OmtlARK"
      },
      "source": [
        "Read the Iris dataset into a dataframe"
      ]
    },
    {
      "cell_type": "code",
      "metadata": {
        "id": "fhZikxi8lBfb"
      },
      "source": [
        "iris = pd.read_csv(\"https://datahub.io/machine-learning/iris/r/iris.csv\")"
      ],
      "execution_count": 2,
      "outputs": []
    },
    {
      "cell_type": "markdown",
      "metadata": {
        "id": "SYJb8JRNlHC1"
      },
      "source": [
        "Choose feature values"
      ]
    },
    {
      "cell_type": "code",
      "metadata": {
        "id": "hD0lTMSMlRQi"
      },
      "source": [
        "features = iris[['sepallength', 'sepalwidth', 'petallength', 'petalwidth']]"
      ],
      "execution_count": 3,
      "outputs": []
    },
    {
      "cell_type": "markdown",
      "metadata": {
        "id": "BLCuc5gtlU7h"
      },
      "source": [
        "Choose target values"
      ]
    },
    {
      "cell_type": "code",
      "metadata": {
        "id": "yCLflqYTlZ25"
      },
      "source": [
        "target = iris['class']"
      ],
      "execution_count": 4,
      "outputs": []
    },
    {
      "cell_type": "markdown",
      "metadata": {
        "id": "pf129XUYlgd7"
      },
      "source": [
        "Instantiate a kmeans model"
      ]
    },
    {
      "cell_type": "code",
      "metadata": {
        "id": "zDbCZlObljoV"
      },
      "source": [
        "clusters = 3\r\n",
        "model = KMeans(n_clusters=clusters)"
      ],
      "execution_count": 5,
      "outputs": []
    },
    {
      "cell_type": "markdown",
      "metadata": {
        "id": "XPBai6TPlr0k"
      },
      "source": [
        "Fit the model using the entire dataset.  \r\n",
        "Note: This is unsupervised learning (no labels were given during fitting)\r\n",
        "\r\n"
      ]
    },
    {
      "cell_type": "code",
      "metadata": {
        "colab": {
          "base_uri": "https://localhost:8080/"
        },
        "id": "tBS_8hAql9lV",
        "outputId": "61a97ff5-89a5-4239-f024-3b148d52c08b"
      },
      "source": [
        "model.fit(features)"
      ],
      "execution_count": 6,
      "outputs": [
        {
          "output_type": "execute_result",
          "data": {
            "text/plain": [
              "KMeans(algorithm='auto', copy_x=True, init='k-means++', max_iter=300,\n",
              "       n_clusters=3, n_init=10, n_jobs=None, precompute_distances='auto',\n",
              "       random_state=None, tol=0.0001, verbose=0)"
            ]
          },
          "metadata": {
            "tags": []
          },
          "execution_count": 6
        }
      ]
    },
    {
      "cell_type": "markdown",
      "metadata": {
        "id": "WyNQO5Sm0gZj"
      },
      "source": [
        "Create a new dataframe with truth/label data"
      ]
    },
    {
      "cell_type": "code",
      "metadata": {
        "id": "Lo2Hmh2d0nmp"
      },
      "source": [
        "dic = {'truth': target, 'label': model.labels_}\r\n",
        "classes = pd.DataFrame(data=dic)"
      ],
      "execution_count": 7,
      "outputs": []
    },
    {
      "cell_type": "markdown",
      "metadata": {
        "id": "zxOH89cA2nfg"
      },
      "source": [
        "Print labels calculated accuracy against true classes  \r\n",
        "Note: Other binary classification performance measures beyond accuracy will be covered later"
      ]
    },
    {
      "cell_type": "code",
      "metadata": {
        "colab": {
          "base_uri": "https://localhost:8080/"
        },
        "id": "uO5bT3xQ2sOA",
        "outputId": "567ce6ee-73cd-417a-ca68-6cd37e90c6ad"
      },
      "source": [
        "correctGrandTotal = 0\r\n",
        "for cluster in range(clusters):\r\n",
        "  prediction = str(classes.loc[classes.label == cluster].truth.mode()[0])\r\n",
        "  trueTotal = classes.truth.loc[classes.truth == prediction].count()\r\n",
        "  correctTotal = classes.loc[classes.label == cluster].truth.value_counts()[0]\r\n",
        "  correctGrandTotal += correctTotal\r\n",
        "\r\n",
        "  print('cluster: ' + str(cluster) + '\\nprediction: ' + prediction)\r\n",
        "  print('accuracy: ' + str(100 * correctTotal / trueTotal) + \"%\\n\")\r\n",
        "\r\n",
        "print('Overall accuracy: ' + str(round(100 * correctGrandTotal / classes.shape[0], 2)) + '%')"
      ],
      "execution_count": 8,
      "outputs": [
        {
          "output_type": "stream",
          "text": [
            "cluster: 0\n",
            "prediction: Iris-setosa\n",
            "accuracy: 100.0%\n",
            "\n",
            "cluster: 1\n",
            "prediction: Iris-versicolor\n",
            "accuracy: 96.0%\n",
            "\n",
            "cluster: 2\n",
            "prediction: Iris-virginica\n",
            "accuracy: 72.0%\n",
            "\n",
            "Overall accuracy: 89.33%\n"
          ],
          "name": "stdout"
        }
      ]
    }
  ]
}