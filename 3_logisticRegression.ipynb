{
  "nbformat": 4,
  "nbformat_minor": 0,
  "metadata": {
    "colab": {
      "name": "3-logisticRegression.ipynb",
      "provenance": [],
      "authorship_tag": "ABX9TyN8kO2MivvTTHlK1epWBUzL",
      "include_colab_link": true
    },
    "kernelspec": {
      "name": "python3",
      "display_name": "Python 3"
    }
  },
  "cells": [
    {
      "cell_type": "markdown",
      "metadata": {
        "id": "view-in-github",
        "colab_type": "text"
      },
      "source": [
        "<a href=\"https://colab.research.google.com/github/jay-giametta/data-sci/blob/main/3_logisticRegression.ipynb\" target=\"_parent\"><img src=\"https://colab.research.google.com/assets/colab-badge.svg\" alt=\"Open In Colab\"/></a>"
      ]
    },
    {
      "cell_type": "markdown",
      "metadata": {
        "id": "DI_gAlTpqCEz"
      },
      "source": [
        "# Logistic Regression"
      ]
    },
    {
      "cell_type": "markdown",
      "metadata": {
        "id": "Tpl7-DjnnjX_"
      },
      "source": [
        "Import necessary libraries"
      ]
    },
    {
      "cell_type": "code",
      "metadata": {
        "id": "yLF7xgD2ngFA"
      },
      "source": [
        "from sklearn.linear_model import LogisticRegression\r\n",
        "import pandas as pd"
      ],
      "execution_count": 7,
      "outputs": []
    },
    {
      "cell_type": "markdown",
      "metadata": {
        "id": "ojsxiAzrn5T3"
      },
      "source": [
        "Read the Iris dataset into a dataframe"
      ]
    },
    {
      "cell_type": "code",
      "metadata": {
        "id": "T9r-oV6IoBa6"
      },
      "source": [
        "iris = pd.read_csv(\"https://datahub.io/machine-learning/iris/r/iris.csv\")"
      ],
      "execution_count": 4,
      "outputs": []
    },
    {
      "cell_type": "markdown",
      "metadata": {
        "id": "dvAp8nmsoCIn"
      },
      "source": [
        "Choose feature values"
      ]
    },
    {
      "cell_type": "code",
      "metadata": {
        "id": "9gjxBmmJoEmq"
      },
      "source": [
        "features = iris[['sepallength', 'sepalwidth', 'petallength', 'petalwidth']]"
      ],
      "execution_count": 5,
      "outputs": []
    },
    {
      "cell_type": "markdown",
      "metadata": {
        "id": "my1awajNoGUs"
      },
      "source": [
        "Choose target values"
      ]
    },
    {
      "cell_type": "code",
      "metadata": {
        "id": "58bdXUY3oIrh"
      },
      "source": [
        "target = iris['class']"
      ],
      "execution_count": 16,
      "outputs": []
    },
    {
      "cell_type": "markdown",
      "metadata": {
        "id": "-ntDciWYoL9K"
      },
      "source": [
        "Instantiate a regression model"
      ]
    },
    {
      "cell_type": "code",
      "metadata": {
        "id": "uk6bZqg5oMi4"
      },
      "source": [
        "model = LogisticRegression()"
      ],
      "execution_count": 11,
      "outputs": []
    },
    {
      "cell_type": "markdown",
      "metadata": {
        "id": "UQjSx0k9ojcy"
      },
      "source": [
        "Fit the model using the entire dataset.\r\n",
        "\r\n",
        "Note: Will cover using separate training/test sets and validation in a later notebook"
      ]
    },
    {
      "cell_type": "code",
      "metadata": {
        "colab": {
          "base_uri": "https://localhost:8080/"
        },
        "id": "vt4k32EPoqge",
        "outputId": "cf735869-4757-43f1-b9ef-f0f8909b264d"
      },
      "source": [
        "model.fit(features, target)"
      ],
      "execution_count": 17,
      "outputs": [
        {
          "output_type": "execute_result",
          "data": {
            "text/plain": [
              "LogisticRegression(C=1.0, class_weight=None, dual=False, fit_intercept=True,\n",
              "                   intercept_scaling=1, l1_ratio=None, max_iter=100,\n",
              "                   multi_class='auto', n_jobs=None, penalty='l2',\n",
              "                   random_state=None, solver='lbfgs', tol=0.0001, verbose=0,\n",
              "                   warm_start=False)"
            ]
          },
          "metadata": {
            "tags": []
          },
          "execution_count": 17
        }
      ]
    },
    {
      "cell_type": "markdown",
      "metadata": {
        "id": "VIDNZlK1pZiJ"
      },
      "source": [
        "Make predictions with the fitted model"
      ]
    },
    {
      "cell_type": "code",
      "metadata": {
        "id": "ZroVuvyUpe21"
      },
      "source": [
        "predict = model.predict(features)"
      ],
      "execution_count": 18,
      "outputs": []
    },
    {
      "cell_type": "markdown",
      "metadata": {
        "id": "UbAL_1w5pnJs"
      },
      "source": [
        "Create a new dataframe with truth/prediction data"
      ]
    },
    {
      "cell_type": "code",
      "metadata": {
        "id": "6-mCgXTZppGr"
      },
      "source": [
        "dic = {'truth': target, 'predict': predict}\r\n",
        "classes = pd.DataFrame(data=dic)\r\n",
        "classes['correct'] = classes.predict == classes.truth"
      ],
      "execution_count": 20,
      "outputs": []
    },
    {
      "cell_type": "markdown",
      "metadata": {
        "id": "o31iy5eOpsaB"
      },
      "source": [
        "Print the first few obsevations in the new dataframe"
      ]
    },
    {
      "cell_type": "code",
      "metadata": {
        "colab": {
          "base_uri": "https://localhost:8080/",
          "height": 204
        },
        "id": "98GH4IwIpvaI",
        "outputId": "c659d89f-a534-402e-8d89-df531f917d82"
      },
      "source": [
        "classes.head()"
      ],
      "execution_count": 21,
      "outputs": [
        {
          "output_type": "execute_result",
          "data": {
            "text/html": [
              "<div>\n",
              "<style scoped>\n",
              "    .dataframe tbody tr th:only-of-type {\n",
              "        vertical-align: middle;\n",
              "    }\n",
              "\n",
              "    .dataframe tbody tr th {\n",
              "        vertical-align: top;\n",
              "    }\n",
              "\n",
              "    .dataframe thead th {\n",
              "        text-align: right;\n",
              "    }\n",
              "</style>\n",
              "<table border=\"1\" class=\"dataframe\">\n",
              "  <thead>\n",
              "    <tr style=\"text-align: right;\">\n",
              "      <th></th>\n",
              "      <th>truth</th>\n",
              "      <th>predict</th>\n",
              "      <th>correct</th>\n",
              "    </tr>\n",
              "  </thead>\n",
              "  <tbody>\n",
              "    <tr>\n",
              "      <th>0</th>\n",
              "      <td>Iris-setosa</td>\n",
              "      <td>Iris-setosa</td>\n",
              "      <td>True</td>\n",
              "    </tr>\n",
              "    <tr>\n",
              "      <th>1</th>\n",
              "      <td>Iris-setosa</td>\n",
              "      <td>Iris-setosa</td>\n",
              "      <td>True</td>\n",
              "    </tr>\n",
              "    <tr>\n",
              "      <th>2</th>\n",
              "      <td>Iris-setosa</td>\n",
              "      <td>Iris-setosa</td>\n",
              "      <td>True</td>\n",
              "    </tr>\n",
              "    <tr>\n",
              "      <th>3</th>\n",
              "      <td>Iris-setosa</td>\n",
              "      <td>Iris-setosa</td>\n",
              "      <td>True</td>\n",
              "    </tr>\n",
              "    <tr>\n",
              "      <th>4</th>\n",
              "      <td>Iris-setosa</td>\n",
              "      <td>Iris-setosa</td>\n",
              "      <td>True</td>\n",
              "    </tr>\n",
              "  </tbody>\n",
              "</table>\n",
              "</div>"
            ],
            "text/plain": [
              "         truth      predict  correct\n",
              "0  Iris-setosa  Iris-setosa     True\n",
              "1  Iris-setosa  Iris-setosa     True\n",
              "2  Iris-setosa  Iris-setosa     True\n",
              "3  Iris-setosa  Iris-setosa     True\n",
              "4  Iris-setosa  Iris-setosa     True"
            ]
          },
          "metadata": {
            "tags": []
          },
          "execution_count": 21
        }
      ]
    },
    {
      "cell_type": "markdown",
      "metadata": {
        "id": "fOcsVna3p3NV"
      },
      "source": [
        "Calculate and print the model accuracy"
      ]
    },
    {
      "cell_type": "code",
      "metadata": {
        "colab": {
          "base_uri": "https://localhost:8080/"
        },
        "id": "E7-cTfYsp6Vx",
        "outputId": "cc7fc6f7-418e-44fa-f98b-04612caac89d"
      },
      "source": [
        "print('Model accuracy: ' + str(round(classes.correct.sum()/classes.correct.count()*100, 2)) + '%')"
      ],
      "execution_count": 22,
      "outputs": [
        {
          "output_type": "stream",
          "text": [
            "Model accuracy: 97.33%\n"
          ],
          "name": "stdout"
        }
      ]
    },
    {
      "cell_type": "markdown",
      "metadata": {
        "id": "2NKvOZGRp7ls"
      },
      "source": [
        "Print the incorrect predictions"
      ]
    },
    {
      "cell_type": "code",
      "metadata": {
        "colab": {
          "base_uri": "https://localhost:8080/",
          "height": 173
        },
        "id": "DZXicUcap-GC",
        "outputId": "87092b6f-db05-400e-87f7-d76e4d4b5f5d"
      },
      "source": [
        "classes.loc[classes.correct == False]"
      ],
      "execution_count": 23,
      "outputs": [
        {
          "output_type": "execute_result",
          "data": {
            "text/html": [
              "<div>\n",
              "<style scoped>\n",
              "    .dataframe tbody tr th:only-of-type {\n",
              "        vertical-align: middle;\n",
              "    }\n",
              "\n",
              "    .dataframe tbody tr th {\n",
              "        vertical-align: top;\n",
              "    }\n",
              "\n",
              "    .dataframe thead th {\n",
              "        text-align: right;\n",
              "    }\n",
              "</style>\n",
              "<table border=\"1\" class=\"dataframe\">\n",
              "  <thead>\n",
              "    <tr style=\"text-align: right;\">\n",
              "      <th></th>\n",
              "      <th>truth</th>\n",
              "      <th>predict</th>\n",
              "      <th>correct</th>\n",
              "    </tr>\n",
              "  </thead>\n",
              "  <tbody>\n",
              "    <tr>\n",
              "      <th>70</th>\n",
              "      <td>Iris-versicolor</td>\n",
              "      <td>Iris-virginica</td>\n",
              "      <td>False</td>\n",
              "    </tr>\n",
              "    <tr>\n",
              "      <th>77</th>\n",
              "      <td>Iris-versicolor</td>\n",
              "      <td>Iris-virginica</td>\n",
              "      <td>False</td>\n",
              "    </tr>\n",
              "    <tr>\n",
              "      <th>83</th>\n",
              "      <td>Iris-versicolor</td>\n",
              "      <td>Iris-virginica</td>\n",
              "      <td>False</td>\n",
              "    </tr>\n",
              "    <tr>\n",
              "      <th>106</th>\n",
              "      <td>Iris-virginica</td>\n",
              "      <td>Iris-versicolor</td>\n",
              "      <td>False</td>\n",
              "    </tr>\n",
              "  </tbody>\n",
              "</table>\n",
              "</div>"
            ],
            "text/plain": [
              "               truth          predict  correct\n",
              "70   Iris-versicolor   Iris-virginica    False\n",
              "77   Iris-versicolor   Iris-virginica    False\n",
              "83   Iris-versicolor   Iris-virginica    False\n",
              "106   Iris-virginica  Iris-versicolor    False"
            ]
          },
          "metadata": {
            "tags": []
          },
          "execution_count": 23
        }
      ]
    }
  ]
}